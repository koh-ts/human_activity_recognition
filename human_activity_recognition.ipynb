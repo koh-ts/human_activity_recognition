{
  "nbformat": 4,
  "nbformat_minor": 0,
  "metadata": {
    "kernelspec": {
      "display_name": "Python 3",
      "language": "python",
      "name": "python3"
    },
    "language_info": {
      "codemirror_mode": {
        "name": "ipython",
        "version": 3
      },
      "file_extension": ".py",
      "mimetype": "text/x-python",
      "name": "python",
      "nbconvert_exporter": "python",
      "pygments_lexer": "ipython3",
      "version": "3.6.2"
    },
    "colab": {
      "name": "human_activity_recognition.ipynb",
      "provenance": [],
      "collapsed_sections": [],
      "include_colab_link": true
    }
  },
  "cells": [
    {
      "cell_type": "markdown",
      "metadata": {
        "id": "view-in-github",
        "colab_type": "text"
      },
      "source": [
        "<a href=\"https://colab.research.google.com/github/koh-ts/human_activity_recognition/blob/master/human_activity_recognition.ipynb\" target=\"_parent\"><img src=\"https://colab.research.google.com/assets/colab-badge.svg\" alt=\"Open In Colab\"/></a>"
      ]
    },
    {
      "cell_type": "code",
      "metadata": {
        "id": "RRTRSiPb467j",
        "colab_type": "code",
        "colab": {}
      },
      "source": [
        "import numpy as np\n",
        "import pandas as pd\n",
        "from sklearn import svm\n",
        "from sklearn.model_selection import GroupKFold, cross_val_score\n",
        "import pandas_profiling as pdp\n",
        "from IPython.display import HTML\n",
        "import lightgbm as lgb\n",
        "from matplotlib import pyplot as plt\n",
        "import pickle\n",
        "%matplotlib inline"
      ],
      "execution_count": 0,
      "outputs": []
    },
    {
      "cell_type": "code",
      "metadata": {
        "id": "5EXPw16piWNl",
        "colab_type": "code",
        "colab": {}
      },
      "source": [
        "class ModelExtractionCallback(object):\n",
        "    \"\"\"lightgbm.cv() から学習済みモデルを取り出すためのコールバックに使うクラス\n",
        "    NOTE: 非公開クラス '_CVBooster' に依存しているため将来的に動かなく恐れがある\n",
        "    \"\"\"\n",
        "    def __init__(self):\n",
        "        self._model = None\n",
        "    def __call__(self, env):\n",
        "        # _CVBooster の参照を保持する\n",
        "        self._model = env.model\n",
        "    def _assert_called_cb(self):\n",
        "        if self._model is None:\n",
        "            # コールバックが呼ばれていないときは例外にする\n",
        "            raise RuntimeError('callback has not called yet')\n",
        "    @property\n",
        "    def boosters_proxy(self):\n",
        "        self._assert_called_cb()\n",
        "        # Booster へのプロキシオブジェクトを返す\n",
        "        return self._model\n",
        "    @property\n",
        "    def raw_boosters(self):\n",
        "        self._assert_called_cb()\n",
        "        # Booster のリストを返す\n",
        "        return self._model.boosters\n",
        "    @property\n",
        "    def best_iteration(self):\n",
        "        self._assert_called_cb()\n",
        "        # Early stop したときの boosting round を返す\n",
        "        return self._model.best_iteration\n",
        "#from: https://blog.amedama.jp/entry/lightgbm-cv-model"
      ],
      "execution_count": 0,
      "outputs": []
    },
    {
      "cell_type": "markdown",
      "metadata": {
        "id": "RSkUG2CA5IrL",
        "colab_type": "text"
      },
      "source": [
        "Mount your Google Drive. In this notebook, we assume that 'report2' folder is placed directly under 'My Drive'."
      ]
    },
    {
      "cell_type": "code",
      "metadata": {
        "id": "56CkXhQu5Pe4",
        "colab_type": "code",
        "outputId": "bd063d1a-0302-4aa8-dd1b-e9603e859e2d",
        "colab": {
          "base_uri": "https://localhost:8080/",
          "height": 54
        }
      },
      "source": [
        "from google.colab import drive\n",
        "drive.mount('/content/drive')"
      ],
      "execution_count": 3,
      "outputs": [
        {
          "output_type": "stream",
          "text": [
            "Drive already mounted at /content/drive; to attempt to forcibly remount, call drive.mount(\"/content/drive\", force_remount=True).\n"
          ],
          "name": "stdout"
        }
      ]
    },
    {
      "cell_type": "markdown",
      "metadata": {
        "id": "rtU_Jfu15V7i",
        "colab_type": "text"
      },
      "source": [
        "Load the data."
      ]
    },
    {
      "cell_type": "code",
      "metadata": {
        "id": "tW4JeRSjROIk",
        "colab_type": "code",
        "colab": {}
      },
      "source": [
        "root_dir=\"/content/drive/My Drive/report2/\"\n",
        "nsample = 3000\n",
        "\n",
        "xraw_train = pd.read_csv(root_dir+\"X_train.csv\",header=None)\n",
        "yraw_train = pd.read_csv(root_dir+\"y_train.csv\",header=None)\n",
        "xraw_test = pd.read_csv(root_dir+\"X_test.csv\",header=None)"
      ],
      "execution_count": 0,
      "outputs": []
    },
    {
      "cell_type": "code",
      "metadata": {
        "id": "6u7EGHv4rONN",
        "colab_type": "code",
        "colab": {}
      },
      "source": [
        "with open(root_dir + 'corr_done.txt', 'rb') as f:\n",
        "  lis = pickle.load(f)"
      ],
      "execution_count": 0,
      "outputs": []
    },
    {
      "cell_type": "code",
      "metadata": {
        "id": "ucraMTOCiGZP",
        "colab_type": "code",
        "colab": {
          "base_uri": "https://localhost:8080/",
          "height": 344
        },
        "outputId": "85246ded-7379-4c1a-c579-d5b4a5f130a8"
      },
      "source": [
        "xraw_train = xraw_train.drop(lis, axis=1)\n",
        "xraw_test = xraw_test.drop(lis, axis=1)"
      ],
      "execution_count": 22,
      "outputs": [
        {
          "output_type": "error",
          "ename": "KeyError",
          "evalue": "ignored",
          "traceback": [
            "\u001b[0;31m---------------------------------------------------------------------------\u001b[0m",
            "\u001b[0;31mKeyError\u001b[0m                                  Traceback (most recent call last)",
            "\u001b[0;32m<ipython-input-22-3b32d7f632e5>\u001b[0m in \u001b[0;36m<module>\u001b[0;34m()\u001b[0m\n\u001b[0;32m----> 1\u001b[0;31m \u001b[0mxraw_train\u001b[0m \u001b[0;34m=\u001b[0m \u001b[0mxraw_train\u001b[0m\u001b[0;34m.\u001b[0m\u001b[0mdrop\u001b[0m\u001b[0;34m(\u001b[0m\u001b[0mlis\u001b[0m\u001b[0;34m,\u001b[0m \u001b[0maxis\u001b[0m\u001b[0;34m=\u001b[0m\u001b[0;36m1\u001b[0m\u001b[0;34m)\u001b[0m\u001b[0;34m\u001b[0m\u001b[0;34m\u001b[0m\u001b[0m\n\u001b[0m\u001b[1;32m      2\u001b[0m \u001b[0mxraw_test\u001b[0m \u001b[0;34m=\u001b[0m \u001b[0mxraw_test\u001b[0m\u001b[0;34m.\u001b[0m\u001b[0mdrop\u001b[0m\u001b[0;34m(\u001b[0m\u001b[0mlis\u001b[0m\u001b[0;34m,\u001b[0m \u001b[0maxis\u001b[0m\u001b[0;34m=\u001b[0m\u001b[0;36m1\u001b[0m\u001b[0;34m)\u001b[0m\u001b[0;34m\u001b[0m\u001b[0;34m\u001b[0m\u001b[0m\n",
            "\u001b[0;32m/usr/local/lib/python3.6/dist-packages/pandas/core/frame.py\u001b[0m in \u001b[0;36mdrop\u001b[0;34m(self, labels, axis, index, columns, level, inplace, errors)\u001b[0m\n\u001b[1;32m   4115\u001b[0m             \u001b[0mlevel\u001b[0m\u001b[0;34m=\u001b[0m\u001b[0mlevel\u001b[0m\u001b[0;34m,\u001b[0m\u001b[0;34m\u001b[0m\u001b[0;34m\u001b[0m\u001b[0m\n\u001b[1;32m   4116\u001b[0m             \u001b[0minplace\u001b[0m\u001b[0;34m=\u001b[0m\u001b[0minplace\u001b[0m\u001b[0;34m,\u001b[0m\u001b[0;34m\u001b[0m\u001b[0;34m\u001b[0m\u001b[0m\n\u001b[0;32m-> 4117\u001b[0;31m             \u001b[0merrors\u001b[0m\u001b[0;34m=\u001b[0m\u001b[0merrors\u001b[0m\u001b[0;34m,\u001b[0m\u001b[0;34m\u001b[0m\u001b[0;34m\u001b[0m\u001b[0m\n\u001b[0m\u001b[1;32m   4118\u001b[0m         )\n\u001b[1;32m   4119\u001b[0m \u001b[0;34m\u001b[0m\u001b[0m\n",
            "\u001b[0;32m/usr/local/lib/python3.6/dist-packages/pandas/core/generic.py\u001b[0m in \u001b[0;36mdrop\u001b[0;34m(self, labels, axis, index, columns, level, inplace, errors)\u001b[0m\n\u001b[1;32m   3912\u001b[0m         \u001b[0;32mfor\u001b[0m \u001b[0maxis\u001b[0m\u001b[0;34m,\u001b[0m \u001b[0mlabels\u001b[0m \u001b[0;32min\u001b[0m \u001b[0maxes\u001b[0m\u001b[0;34m.\u001b[0m\u001b[0mitems\u001b[0m\u001b[0;34m(\u001b[0m\u001b[0;34m)\u001b[0m\u001b[0;34m:\u001b[0m\u001b[0;34m\u001b[0m\u001b[0;34m\u001b[0m\u001b[0m\n\u001b[1;32m   3913\u001b[0m             \u001b[0;32mif\u001b[0m \u001b[0mlabels\u001b[0m \u001b[0;32mis\u001b[0m \u001b[0;32mnot\u001b[0m \u001b[0;32mNone\u001b[0m\u001b[0;34m:\u001b[0m\u001b[0;34m\u001b[0m\u001b[0;34m\u001b[0m\u001b[0m\n\u001b[0;32m-> 3914\u001b[0;31m                 \u001b[0mobj\u001b[0m \u001b[0;34m=\u001b[0m \u001b[0mobj\u001b[0m\u001b[0;34m.\u001b[0m\u001b[0m_drop_axis\u001b[0m\u001b[0;34m(\u001b[0m\u001b[0mlabels\u001b[0m\u001b[0;34m,\u001b[0m \u001b[0maxis\u001b[0m\u001b[0;34m,\u001b[0m \u001b[0mlevel\u001b[0m\u001b[0;34m=\u001b[0m\u001b[0mlevel\u001b[0m\u001b[0;34m,\u001b[0m \u001b[0merrors\u001b[0m\u001b[0;34m=\u001b[0m\u001b[0merrors\u001b[0m\u001b[0;34m)\u001b[0m\u001b[0;34m\u001b[0m\u001b[0;34m\u001b[0m\u001b[0m\n\u001b[0m\u001b[1;32m   3915\u001b[0m \u001b[0;34m\u001b[0m\u001b[0m\n\u001b[1;32m   3916\u001b[0m         \u001b[0;32mif\u001b[0m \u001b[0minplace\u001b[0m\u001b[0;34m:\u001b[0m\u001b[0;34m\u001b[0m\u001b[0;34m\u001b[0m\u001b[0m\n",
            "\u001b[0;32m/usr/local/lib/python3.6/dist-packages/pandas/core/generic.py\u001b[0m in \u001b[0;36m_drop_axis\u001b[0;34m(self, labels, axis, level, errors)\u001b[0m\n\u001b[1;32m   3944\u001b[0m                 \u001b[0mnew_axis\u001b[0m \u001b[0;34m=\u001b[0m \u001b[0maxis\u001b[0m\u001b[0;34m.\u001b[0m\u001b[0mdrop\u001b[0m\u001b[0;34m(\u001b[0m\u001b[0mlabels\u001b[0m\u001b[0;34m,\u001b[0m \u001b[0mlevel\u001b[0m\u001b[0;34m=\u001b[0m\u001b[0mlevel\u001b[0m\u001b[0;34m,\u001b[0m \u001b[0merrors\u001b[0m\u001b[0;34m=\u001b[0m\u001b[0merrors\u001b[0m\u001b[0;34m)\u001b[0m\u001b[0;34m\u001b[0m\u001b[0;34m\u001b[0m\u001b[0m\n\u001b[1;32m   3945\u001b[0m             \u001b[0;32melse\u001b[0m\u001b[0;34m:\u001b[0m\u001b[0;34m\u001b[0m\u001b[0;34m\u001b[0m\u001b[0m\n\u001b[0;32m-> 3946\u001b[0;31m                 \u001b[0mnew_axis\u001b[0m \u001b[0;34m=\u001b[0m \u001b[0maxis\u001b[0m\u001b[0;34m.\u001b[0m\u001b[0mdrop\u001b[0m\u001b[0;34m(\u001b[0m\u001b[0mlabels\u001b[0m\u001b[0;34m,\u001b[0m \u001b[0merrors\u001b[0m\u001b[0;34m=\u001b[0m\u001b[0merrors\u001b[0m\u001b[0;34m)\u001b[0m\u001b[0;34m\u001b[0m\u001b[0;34m\u001b[0m\u001b[0m\n\u001b[0m\u001b[1;32m   3947\u001b[0m             \u001b[0mresult\u001b[0m \u001b[0;34m=\u001b[0m \u001b[0mself\u001b[0m\u001b[0;34m.\u001b[0m\u001b[0mreindex\u001b[0m\u001b[0;34m(\u001b[0m\u001b[0;34m**\u001b[0m\u001b[0;34m{\u001b[0m\u001b[0maxis_name\u001b[0m\u001b[0;34m:\u001b[0m \u001b[0mnew_axis\u001b[0m\u001b[0;34m}\u001b[0m\u001b[0;34m)\u001b[0m\u001b[0;34m\u001b[0m\u001b[0;34m\u001b[0m\u001b[0m\n\u001b[1;32m   3948\u001b[0m \u001b[0;34m\u001b[0m\u001b[0m\n",
            "\u001b[0;32m/usr/local/lib/python3.6/dist-packages/pandas/core/indexes/base.py\u001b[0m in \u001b[0;36mdrop\u001b[0;34m(self, labels, errors)\u001b[0m\n\u001b[1;32m   5338\u001b[0m         \u001b[0;32mif\u001b[0m \u001b[0mmask\u001b[0m\u001b[0;34m.\u001b[0m\u001b[0many\u001b[0m\u001b[0;34m(\u001b[0m\u001b[0;34m)\u001b[0m\u001b[0;34m:\u001b[0m\u001b[0;34m\u001b[0m\u001b[0;34m\u001b[0m\u001b[0m\n\u001b[1;32m   5339\u001b[0m             \u001b[0;32mif\u001b[0m \u001b[0merrors\u001b[0m \u001b[0;34m!=\u001b[0m \u001b[0;34m\"ignore\"\u001b[0m\u001b[0;34m:\u001b[0m\u001b[0;34m\u001b[0m\u001b[0;34m\u001b[0m\u001b[0m\n\u001b[0;32m-> 5340\u001b[0;31m                 \u001b[0;32mraise\u001b[0m \u001b[0mKeyError\u001b[0m\u001b[0;34m(\u001b[0m\u001b[0;34m\"{} not found in axis\"\u001b[0m\u001b[0;34m.\u001b[0m\u001b[0mformat\u001b[0m\u001b[0;34m(\u001b[0m\u001b[0mlabels\u001b[0m\u001b[0;34m[\u001b[0m\u001b[0mmask\u001b[0m\u001b[0;34m]\u001b[0m\u001b[0;34m)\u001b[0m\u001b[0;34m)\u001b[0m\u001b[0;34m\u001b[0m\u001b[0;34m\u001b[0m\u001b[0m\n\u001b[0m\u001b[1;32m   5341\u001b[0m             \u001b[0mindexer\u001b[0m \u001b[0;34m=\u001b[0m \u001b[0mindexer\u001b[0m\u001b[0;34m[\u001b[0m\u001b[0;34m~\u001b[0m\u001b[0mmask\u001b[0m\u001b[0;34m]\u001b[0m\u001b[0;34m\u001b[0m\u001b[0;34m\u001b[0m\u001b[0m\n\u001b[1;32m   5342\u001b[0m         \u001b[0;32mreturn\u001b[0m \u001b[0mself\u001b[0m\u001b[0;34m.\u001b[0m\u001b[0mdelete\u001b[0m\u001b[0;34m(\u001b[0m\u001b[0mindexer\u001b[0m\u001b[0;34m)\u001b[0m\u001b[0;34m\u001b[0m\u001b[0;34m\u001b[0m\u001b[0m\n",
            "\u001b[0;31mKeyError\u001b[0m: '[  4   6   7   8   9  10  11  15  16  17  18  19  20  21  46  47  48  49\\n  50  51  52  53  54  56  59  60  61  67  68  71  72  75  76  83  84  85\\n  86  87  88  89  90  91  92  93  94  95  96  97  98  99 100 101 102 103\\n 104 105 109 113 123 124 125 126 127 128 129 130 131 135 136 137 138 139\\n 140 141 163 164 165 166 167 168 169 170 171 175 176 178 179 180 181 182\\n 183 184 185 189 193 200 201 202 203 205 206 207 208 213 214 215 216 217\\n 218 219 220 221 222 223 224 225 226 227 228 229 231 232 233 234 239 240\\n 241 242 244 245 246 252 253 254 255 257 258 259 260 265 266 267 268 269\\n 270 271 272 273 274 275 276 280 281 282 283 284 285 286 287 288 289 297\\n 299 301 302 303 310 311 312 313 314 315 316 317 318 324 325 326 327 328\\n 329 330 332 338 339 340 341 342 343 344 345 346 347 348 349 350 351 352\\n 353 354 355 359 360 361 362 363 364 365 366 367 368 372 376 378 380 381\\n 382 383 384 385 386 389 390 391 392 393 394 395 396 397 398 399 400 403\\n 404 405 406 407 408 409 410 411 412 413 414 417 418 419 420 421 422 423\\n 424 425 426 427 428 429 430 431 432 433 434 438 439 440 441 442 443 444\\n 445 446 447 455 457 459 460 461 462 467 468 469 470 471 472 473 474 476\\n 482 483 484 485 486 487 488 490 496 497 498 499 500 501 502 503 504 505\\n 507 508 509 510 514 515 516 517 518 520 521 522 523 527 528 529 530 531\\n 533 534 535 536 540 541 542 543 544 546 547 548 549 553] not found in axis'"
          ]
        }
      ]
    },
    {
      "cell_type": "code",
      "metadata": {
        "id": "Y2QBDR5QfAC0",
        "colab_type": "code",
        "colab": {}
      },
      "source": [
        "sub_train = pd.read_csv(root_dir + \"subject_train.csv\", header=None)"
      ],
      "execution_count": 0,
      "outputs": []
    },
    {
      "cell_type": "code",
      "metadata": {
        "id": "pZrZH190i_vS",
        "colab_type": "code",
        "outputId": "618744a3-bbbd-4bb9-e8c7-52848b92e8be",
        "colab": {
          "base_uri": "https://localhost:8080/",
          "height": 153
        }
      },
      "source": [
        "X_train = np.array(xraw_train)\n",
        "y_train = np.array(yraw_train.ix[:,0])\n",
        "X_test = np.array(xraw_test)\n",
        "subject_train = np.array(sub_train)"
      ],
      "execution_count": 25,
      "outputs": [
        {
          "output_type": "stream",
          "text": [
            "/usr/local/lib/python3.6/dist-packages/ipykernel_launcher.py:2: FutureWarning: \n",
            ".ix is deprecated. Please use\n",
            ".loc for label based indexing or\n",
            ".iloc for positional indexing\n",
            "\n",
            "See the documentation here:\n",
            "http://pandas.pydata.org/pandas-docs/stable/user_guide/indexing.html#ix-indexer-is-deprecated\n",
            "  \n"
          ],
          "name": "stderr"
        }
      ]
    },
    {
      "cell_type": "code",
      "metadata": {
        "id": "KZCF5q1lvZpt",
        "colab_type": "code",
        "colab": {}
      },
      "source": [
        "# subject_train.shape\n",
        "# X_train.shape"
      ],
      "execution_count": 0,
      "outputs": []
    },
    {
      "cell_type": "code",
      "metadata": {
        "id": "O6fSSOQKoqd2",
        "colab_type": "code",
        "colab": {}
      },
      "source": [
        "XTrain = X_train[:nsample,:] #use the first 3000 samples for training\n",
        "yTrain = y_train[:nsample]\n",
        "XVal = X_train[nsample:,:] #use the rests for validation\n",
        "yVal = y_train[nsample:]\n",
        "alldata = pd.concat([xraw_train, xraw_test], ignore_index=True)"
      ],
      "execution_count": 0,
      "outputs": []
    },
    {
      "cell_type": "markdown",
      "metadata": {
        "id": "EdFTg-vvReLy",
        "colab_type": "text"
      },
      "source": [
        "Train a linear SVM classifier"
      ]
    },
    {
      "cell_type": "code",
      "metadata": {
        "id": "Ul8CyWYNRbwT",
        "colab_type": "code",
        "colab": {}
      },
      "source": [
        "print(\"Training linear SVM classifier.\")\n",
        "clf = svm.LinearSVC()\n",
        "clf.fit(XTrain,yTrain)"
      ],
      "execution_count": 0,
      "outputs": []
    },
    {
      "cell_type": "markdown",
      "metadata": {
        "id": "KXHDPbCNRsIr",
        "colab_type": "text"
      },
      "source": [
        "Evaluate training end validation scores."
      ]
    },
    {
      "cell_type": "code",
      "metadata": {
        "id": "IDdidvDRRk43",
        "colab_type": "code",
        "colab": {}
      },
      "source": [
        "yHatTrain = clf.predict(XTrain)\n",
        "yHatVal = clf.predict(XVal)\n",
        "print(\"Training score \", len((np.where(yHatTrain == yTrain))[0])*1.0/XTrain.shape[0])\n",
        "print(\"Validation score \", len((np.where(yHatVal == yVal))[0])*1.0/XVal.shape[0])"
      ],
      "execution_count": 0,
      "outputs": []
    },
    {
      "cell_type": "code",
      "metadata": {
        "id": "mXu2aDHnvkLa",
        "colab_type": "code",
        "colab": {}
      },
      "source": [
        "group_kfold = GroupKFold(n_splits=15)\n",
        "# for train_index, test_index in group_kfold.split(X_train, y_train, subject_train):\n",
        "#   print(type(train_index), train_index)"
      ],
      "execution_count": 0,
      "outputs": []
    },
    {
      "cell_type": "code",
      "metadata": {
        "id": "oVmsX7LLwY3I",
        "colab_type": "code",
        "colab": {}
      },
      "source": [
        "train_data_set = lgb.Dataset(XTrain, yTrain)\n",
        "valid_data_set = lgb.Dataset(XVal, yVal, reference=train_data_set)\n",
        "\n",
        "# params = {'boosting_type': 'gbdt',\n",
        "#           'objective': 'multiclass',\n",
        "#           'num_class': 7,\n",
        "#           'metric': {'multi_error'},\n",
        "#           'num_leaves': 32,\n",
        "#           'learning_rate': 0.05,\n",
        "#           'feature_fraction': 0.9, #0.9\n",
        "#           'bagging_fraction': 0.8, #0.8\n",
        "#           'bagging_freq': 7}\n",
        "\n",
        "params = {'objective': 'multiclass',\n",
        "          'num_class': 7,\n",
        "          'metric': {'multi_error'}}\n",
        "extraction_cb = ModelExtractionCallback()\n",
        "callbacks = [extraction_cb,]"
      ],
      "execution_count": 0,
      "outputs": []
    },
    {
      "cell_type": "code",
      "metadata": {
        "id": "H8C_QUQmacdw",
        "colab_type": "code",
        "colab": {
          "base_uri": "https://localhost:8080/",
          "height": 1000
        },
        "outputId": "fea2b380-c4f3-44ef-9ac3-584fe35bdec2"
      },
      "source": [
        "train_data_for_cv = lgb.Dataset(X_train, y_train)\n",
        "gbm_result = lgb.cv(params, train_data_for_cv, folds=group_kfold.split(X_train, y_train, subject_train), verbose_eval=True, callbacks=callbacks,)"
      ],
      "execution_count": 50,
      "outputs": [
        {
          "output_type": "stream",
          "text": [
            "[1]\tcv_agg's multi_error: 0.220995 + 0.0870768\n",
            "[2]\tcv_agg's multi_error: 0.155829 + 0.0683834\n",
            "[3]\tcv_agg's multi_error: 0.142436 + 0.0641543\n",
            "[4]\tcv_agg's multi_error: 0.136386 + 0.0628693\n",
            "[5]\tcv_agg's multi_error: 0.131344 + 0.0622771\n",
            "[6]\tcv_agg's multi_error: 0.127 + 0.0617156\n",
            "[7]\tcv_agg's multi_error: 0.123493 + 0.0610599\n",
            "[8]\tcv_agg's multi_error: 0.118786 + 0.0607938\n",
            "[9]\tcv_agg's multi_error: 0.117706 + 0.0613351\n",
            "[10]\tcv_agg's multi_error: 0.117868 + 0.062362\n",
            "[11]\tcv_agg's multi_error: 0.117774 + 0.0616584\n",
            "[12]\tcv_agg's multi_error: 0.119398 + 0.0625354\n",
            "[13]\tcv_agg's multi_error: 0.117319 + 0.0618316\n",
            "[14]\tcv_agg's multi_error: 0.118638 + 0.0631235\n",
            "[15]\tcv_agg's multi_error: 0.117843 + 0.062081\n",
            "[16]\tcv_agg's multi_error: 0.117024 + 0.0617497\n",
            "[17]\tcv_agg's multi_error: 0.115397 + 0.0607829\n",
            "[18]\tcv_agg's multi_error: 0.115801 + 0.061921\n",
            "[19]\tcv_agg's multi_error: 0.115236 + 0.0623187\n",
            "[20]\tcv_agg's multi_error: 0.114549 + 0.061745\n",
            "[21]\tcv_agg's multi_error: 0.113834 + 0.060373\n",
            "[22]\tcv_agg's multi_error: 0.112784 + 0.0600022\n",
            "[23]\tcv_agg's multi_error: 0.112039 + 0.0577928\n",
            "[24]\tcv_agg's multi_error: 0.11221 + 0.0587088\n",
            "[25]\tcv_agg's multi_error: 0.112527 + 0.058752\n",
            "[26]\tcv_agg's multi_error: 0.112276 + 0.0581997\n",
            "[27]\tcv_agg's multi_error: 0.111542 + 0.058281\n",
            "[28]\tcv_agg's multi_error: 0.111065 + 0.0583321\n",
            "[29]\tcv_agg's multi_error: 0.109836 + 0.0580626\n",
            "[30]\tcv_agg's multi_error: 0.109653 + 0.0581693\n",
            "[31]\tcv_agg's multi_error: 0.108248 + 0.0584612\n",
            "[32]\tcv_agg's multi_error: 0.107031 + 0.0579806\n",
            "[33]\tcv_agg's multi_error: 0.10623 + 0.0578482\n",
            "[34]\tcv_agg's multi_error: 0.105819 + 0.0579205\n",
            "[35]\tcv_agg's multi_error: 0.106228 + 0.05777\n",
            "[36]\tcv_agg's multi_error: 0.106401 + 0.0579072\n",
            "[37]\tcv_agg's multi_error: 0.106066 + 0.0583513\n",
            "[38]\tcv_agg's multi_error: 0.106025 + 0.0583977\n",
            "[39]\tcv_agg's multi_error: 0.105022 + 0.059084\n",
            "[40]\tcv_agg's multi_error: 0.105269 + 0.0593094\n",
            "[41]\tcv_agg's multi_error: 0.104088 + 0.0598114\n",
            "[42]\tcv_agg's multi_error: 0.104085 + 0.0597913\n",
            "[43]\tcv_agg's multi_error: 0.104099 + 0.0598169\n",
            "[44]\tcv_agg's multi_error: 0.102804 + 0.0591238\n",
            "[45]\tcv_agg's multi_error: 0.102161 + 0.0584698\n",
            "[46]\tcv_agg's multi_error: 0.102979 + 0.0587096\n",
            "[47]\tcv_agg's multi_error: 0.101555 + 0.0581458\n",
            "[48]\tcv_agg's multi_error: 0.101269 + 0.0575468\n",
            "[49]\tcv_agg's multi_error: 0.101291 + 0.0575888\n",
            "[50]\tcv_agg's multi_error: 0.10003 + 0.0564086\n",
            "[51]\tcv_agg's multi_error: 0.0997003 + 0.0568553\n",
            "[52]\tcv_agg's multi_error: 0.0994736 + 0.0564776\n",
            "[53]\tcv_agg's multi_error: 0.0992764 + 0.0572679\n",
            "[54]\tcv_agg's multi_error: 0.0990676 + 0.0565574\n",
            "[55]\tcv_agg's multi_error: 0.0984024 + 0.0558054\n",
            "[56]\tcv_agg's multi_error: 0.0973721 + 0.0551183\n",
            "[57]\tcv_agg's multi_error: 0.0975974 + 0.0554458\n",
            "[58]\tcv_agg's multi_error: 0.0973865 + 0.0559657\n",
            "[59]\tcv_agg's multi_error: 0.0971613 + 0.055427\n",
            "[60]\tcv_agg's multi_error: 0.0965281 + 0.0550841\n",
            "[61]\tcv_agg's multi_error: 0.0967323 + 0.0548713\n",
            "[62]\tcv_agg's multi_error: 0.0962623 + 0.0546306\n",
            "[63]\tcv_agg's multi_error: 0.0958801 + 0.054439\n",
            "[64]\tcv_agg's multi_error: 0.0956687 + 0.0547729\n",
            "[65]\tcv_agg's multi_error: 0.0954692 + 0.0546291\n",
            "[66]\tcv_agg's multi_error: 0.0948509 + 0.0547989\n",
            "[67]\tcv_agg's multi_error: 0.0950975 + 0.0547475\n",
            "[68]\tcv_agg's multi_error: 0.0946822 + 0.0549272\n",
            "[69]\tcv_agg's multi_error: 0.0945011 + 0.0551535\n",
            "[70]\tcv_agg's multi_error: 0.0938276 + 0.0544046\n",
            "[71]\tcv_agg's multi_error: 0.0930107 + 0.0534945\n",
            "[72]\tcv_agg's multi_error: 0.0930291 + 0.0539402\n",
            "[73]\tcv_agg's multi_error: 0.0927709 + 0.0537075\n",
            "[74]\tcv_agg's multi_error: 0.0927574 + 0.0539484\n",
            "[75]\tcv_agg's multi_error: 0.0919522 + 0.0539184\n",
            "[76]\tcv_agg's multi_error: 0.0915188 + 0.0539917\n",
            "[77]\tcv_agg's multi_error: 0.0910897 + 0.0527602\n",
            "[78]\tcv_agg's multi_error: 0.0906025 + 0.0523972\n",
            "[79]\tcv_agg's multi_error: 0.0901399 + 0.0519627\n",
            "[80]\tcv_agg's multi_error: 0.090345 + 0.052074\n",
            "[81]\tcv_agg's multi_error: 0.0903736 + 0.0524099\n",
            "[82]\tcv_agg's multi_error: 0.0897443 + 0.0513724\n",
            "[83]\tcv_agg's multi_error: 0.089003 + 0.0498091\n",
            "[84]\tcv_agg's multi_error: 0.0885595 + 0.0496526\n",
            "[85]\tcv_agg's multi_error: 0.0877974 + 0.0497948\n",
            "[86]\tcv_agg's multi_error: 0.0876334 + 0.0500633\n",
            "[87]\tcv_agg's multi_error: 0.0873705 + 0.0503041\n",
            "[88]\tcv_agg's multi_error: 0.0867644 + 0.0495437\n",
            "[89]\tcv_agg's multi_error: 0.0867596 + 0.05001\n",
            "[90]\tcv_agg's multi_error: 0.0869658 + 0.0495636\n",
            "[91]\tcv_agg's multi_error: 0.0867689 + 0.0492315\n",
            "[92]\tcv_agg's multi_error: 0.0863709 + 0.0494157\n",
            "[93]\tcv_agg's multi_error: 0.0865179 + 0.0488476\n",
            "[94]\tcv_agg's multi_error: 0.0858975 + 0.0489564\n",
            "[95]\tcv_agg's multi_error: 0.0854694 + 0.0484163\n",
            "[96]\tcv_agg's multi_error: 0.0850964 + 0.0484949\n",
            "[97]\tcv_agg's multi_error: 0.0855627 + 0.0489849\n",
            "[98]\tcv_agg's multi_error: 0.0861618 + 0.0489679\n",
            "[99]\tcv_agg's multi_error: 0.0861559 + 0.0486956\n",
            "[100]\tcv_agg's multi_error: 0.0855627 + 0.0488149\n"
          ],
          "name": "stdout"
        }
      ]
    },
    {
      "cell_type": "code",
      "metadata": {
        "id": "eBfnRo2AjkRZ",
        "colab_type": "code",
        "colab": {}
      },
      "source": [
        "proxy = extraction_cb.boosters_proxy\n",
        "boosters = extraction_cb.raw_boosters\n",
        "best_iteration = extraction_cb.best_iteration"
      ],
      "execution_count": 0,
      "outputs": []
    },
    {
      "cell_type": "code",
      "metadata": {
        "id": "bnfSm-tSkAuS",
        "colab_type": "code",
        "colab": {}
      },
      "source": [
        "y_pred_proba_list = proxy.predict(X_test, num_iteration=best_iteration)\n",
        "y_pred_proba_avg = np.array(y_pred_proba_list).mean(axis=0)\n",
        "y_pred = np.argmax(y_pred_proba_avg, axis=1)"
      ],
      "execution_count": 0,
      "outputs": []
    },
    {
      "cell_type": "code",
      "metadata": {
        "id": "YoTBUup0kkXJ",
        "colab_type": "code",
        "colab": {
          "base_uri": "https://localhost:8080/",
          "height": 34
        },
        "outputId": "ffff1da8-b475-40f1-f29f-daa5990c85b1"
      },
      "source": [
        "print(y_pred)\n",
        "np.savetxt(root_dir+'result_gbm_cv.txt', y_pred)"
      ],
      "execution_count": 54,
      "outputs": [
        {
          "output_type": "stream",
          "text": [
            "[1 4 5 ... 3 4 1]\n"
          ],
          "name": "stdout"
        }
      ]
    },
    {
      "cell_type": "code",
      "metadata": {
        "id": "R1kfYgMTfYVe",
        "colab_type": "code",
        "colab": {
          "base_uri": "https://localhost:8080/",
          "height": 279
        },
        "outputId": "d821c9aa-02c5-4a1e-eb15-e70cd8890ea5"
      },
      "source": [
        "round_n = np.arange(len(gbm_result['multi_error-mean']))\n",
        "plt.xlabel('round')\n",
        "plt.ylabel('multi_error-mean')\n",
        "plt.plot(round_n, gbm_result['multi_error-mean'])\n",
        "plt.show()"
      ],
      "execution_count": 47,
      "outputs": [
        {
          "output_type": "display_data",
          "data": {
            "image/png": "[encoded data removed]",
            "text/plain": [
              "<Figure size 432x288 with 1 Axes>"
            ]
          },
          "metadata": {
            "tags": []
          }
        }
      ]
    },
    {
      "cell_type": "markdown",
      "metadata": {
        "id": "zCwiD3y5R4Je",
        "colab_type": "text"
      },
      "source": [
        "Predict test data and save the result."
      ]
    },
    {
      "cell_type": "code",
      "metadata": {
        "id": "Wzmsp6Pqb10P",
        "colab_type": "code",
        "colab": {}
      },
      "source": [
        "lgb.plot_importance(gbm)\n",
        "plt.show()"
      ],
      "execution_count": 0,
      "outputs": []
    },
    {
      "cell_type": "code",
      "metadata": {
        "id": "qtsSnmSjb0HU",
        "colab_type": "code",
        "colab": {}
      },
      "source": [
        "yHatTest_gbm_raw = gbm.predict(X_test)\n",
        "yHatTest_gbm = np.argmax(yHatTest_gbm_raw, axis=1)\n",
        "np.savetxt(root_dir+'result_gbm2.txt', yHatTest_gbm)"
      ],
      "execution_count": 0,
      "outputs": []
    },
    {
      "cell_type": "code",
      "metadata": {
        "id": "_J9v1rzg467n",
        "colab_type": "code",
        "colab": {}
      },
      "source": [
        "yHatTest = clf.predict(X_test)\n",
        "np.savetxt(root_dir+'result_svm.txt', yHatTest)"
      ],
      "execution_count": 0,
      "outputs": []
    },
    {
      "cell_type": "code",
      "metadata": {
        "id": "562qeDL8sICl",
        "colab_type": "code",
        "colab": {}
      },
      "source": [
        ""
      ],
      "execution_count": 0,
      "outputs": []
    }
  ]
}