{
  "nbformat": 4,
  "nbformat_minor": 0,
  "metadata": {
    "kernelspec": {
      "display_name": "Python 3",
      "language": "python",
      "name": "python3"
    },
    "language_info": {
      "codemirror_mode": {
        "name": "ipython",
        "version": 3
      },
      "file_extension": ".py",
      "mimetype": "text/x-python",
      "name": "python",
      "nbconvert_exporter": "python",
      "pygments_lexer": "ipython3",
      "version": "3.6.2"
    },
    "colab": {
      "name": "human_activity_recognition.ipynb",
      "provenance": [],
      "collapsed_sections": [],
      "include_colab_link": true
    }
  },
  "cells": [
    {
      "cell_type": "markdown",
      "metadata": {
        "id": "view-in-github",
        "colab_type": "text"
      },
      "source": [
        "<a href=\"https://colab.research.google.com/github/koh-ts/human_activity_recognition/blob/master/human_activity_recognition.ipynb\" target=\"_parent\"><img src=\"https://colab.research.google.com/assets/colab-badge.svg\" alt=\"Open In Colab\"/></a>"
      ]
    },
    {
      "cell_type": "code",
      "metadata": {
        "id": "RRTRSiPb467j",
        "colab_type": "code",
        "colab": {}
      },
      "source": [
        "import numpy as np\n",
        "import pandas as pd\n",
        "from sklearn import svm\n",
        "import pandas_profiling as pdp\n",
        "from IPython.display import HTML\n",
        "import lightgbm as lgb"
      ],
      "execution_count": 0,
      "outputs": []
    },
    {
      "cell_type": "markdown",
      "metadata": {
        "id": "RSkUG2CA5IrL",
        "colab_type": "text"
      },
      "source": [
        "Mount your Google Drive. In this notebook, we assume that 'report2' folder is placed directly under 'My Drive'."
      ]
    },
    {
      "cell_type": "code",
      "metadata": {
        "id": "56CkXhQu5Pe4",
        "colab_type": "code",
        "colab": {}
      },
      "source": [
        "from google.colab import drive\n",
        "drive.mount('/content/drive')"
      ],
      "execution_count": 0,
      "outputs": []
    },
    {
      "cell_type": "markdown",
      "metadata": {
        "id": "rtU_Jfu15V7i",
        "colab_type": "text"
      },
      "source": [
        "Load the data."
      ]
    },
    {
      "cell_type": "code",
      "metadata": {
        "id": "tW4JeRSjROIk",
        "colab_type": "code",
        "colab": {}
      },
      "source": [
        "root_dir=\"/content/drive/My Drive/report2/\"\n",
        "nsample = 2000\n",
        "\n",
        "X_train = np.array(pd.read_csv(root_dir+\"X_train.csv\",header=None))\n",
        "y_train = np.array(pd.read_csv(root_dir+\"y_train.csv\",header=None).ix[:,0])\n",
        "X_test = np.array(pd.read_csv(root_dir+\"X_test.csv\",header=None))"
      ],
      "execution_count": 0,
      "outputs": []
    },
    {
      "cell_type": "code",
      "metadata": {
        "id": "O6fSSOQKoqd2",
        "colab_type": "code",
        "colab": {}
      },
      "source": [
        "XTrain = X_train[:nsample,:] #use the first 3000 samples for training\n",
        "yTrain = y_train[:nsample]\n",
        "XVal = X_train[nsample:,:] #use the rests for validation\n",
        "yVal = y_train[nsample:]\n",
        "alldata = pd.concat([XTrain1, X_test1], ignore_index=True)"
      ],
      "execution_count": 0,
      "outputs": []
    },
    {
      "cell_type": "code",
      "metadata": {
        "id": "wcWmjiOTtqeY",
        "colab_type": "code",
        "colab": {}
      },
      "source": [
        "XTrain1.head(3)"
      ],
      "execution_count": 0,
      "outputs": []
    },
    {
      "cell_type": "code",
      "metadata": {
        "id": "oTyhKHrzj9OD",
        "colab_type": "code",
        "colab": {}
      },
      "source": [
        "# profile1 = pdp.ProfileReport(alldata)\n",
        "# profile1.to_file(outputfile=\"myoutputfile1.html\")\n",
        "# HTML(filename=\"myoutputfile1.html\")"
      ],
      "execution_count": 0,
      "outputs": []
    },
    {
      "cell_type": "markdown",
      "metadata": {
        "id": "EdFTg-vvReLy",
        "colab_type": "text"
      },
      "source": [
        "Train a linear SVM classifier"
      ]
    },
    {
      "cell_type": "code",
      "metadata": {
        "id": "Ul8CyWYNRbwT",
        "colab_type": "code",
        "colab": {}
      },
      "source": [
        "print(\"Training linear SVM classifier.\")\n",
        "clf = svm.LinearSVC()\n",
        "clf.fit(XTrain,yTrain)"
      ],
      "execution_count": 0,
      "outputs": []
    },
    {
      "cell_type": "markdown",
      "metadata": {
        "id": "KXHDPbCNRsIr",
        "colab_type": "text"
      },
      "source": [
        "Evaluate training end validation scores."
      ]
    },
    {
      "cell_type": "code",
      "metadata": {
        "id": "IDdidvDRRk43",
        "colab_type": "code",
        "colab": {}
      },
      "source": [
        "yHatTrain = clf.predict(XTrain)\n",
        "yHatVal = clf.predict(XVal)\n",
        "print(\"Training score \", len((np.where(yHatTrain == yTrain))[0])*1.0/XTrain.shape[0])\n",
        "print(\"Validation score \", len((np.where(yHatVal == yVal))[0])*1.0/XVal.shape[0])"
      ],
      "execution_count": 0,
      "outputs": []
    },
    {
      "cell_type": "code",
      "metadata": {
        "id": "oVmsX7LLwY3I",
        "colab_type": "code",
        "colab": {}
      },
      "source": [
        "train_data_set = lgb.Dataset(XTrain, yTrain)\n",
        "valid_data_set = lgb.Dataset(XVal, yVal, reference=train_data_set)\n",
        "\n",
        "params = {'boosting_type': 'gbdt',\n",
        "          'objective': 'multiclass',\n",
        "          'num_class': 7,\n",
        "          'metric': {'multi_error'},\n",
        "          'num_leaves': 32,\n",
        "          'learning_rate': 0.05,\n",
        "          'feature_fraction': 0.9, #0.9\n",
        "          'bagging_fraction': 0.8, #0.8\n",
        "          'bagging_freq': 7}"
      ],
      "execution_count": 0,
      "outputs": []
    },
    {
      "cell_type": "code",
      "metadata": {
        "id": "Q7mliK4VzmYB",
        "colab_type": "code",
        "colab": {}
      },
      "source": [
        "gbm = lgb.train(params, train_data_set, num_boost_round=300, valid_sets=[train_data_set, valid_data_set], early_stopping_rounds=100)"
      ],
      "execution_count": 0,
      "outputs": []
    },
    {
      "cell_type": "markdown",
      "metadata": {
        "id": "zCwiD3y5R4Je",
        "colab_type": "text"
      },
      "source": [
        "Predict test data and save the result."
      ]
    },
    {
      "cell_type": "code",
      "metadata": {
        "id": "jetzXfa64674",
        "colab_type": "code",
        "colab": {}
      },
      "source": [
        "yHatTest_gbm_raw = gbm.predict(X_test)\n",
        "yHatTest_gbm = np.argmax(yHatTest_gbm_raw, axis=1)\n",
        "np.savetxt(root_dir+'result_gbm.txt', yHatTest_gbm)"
      ],
      "execution_count": 0,
      "outputs": []
    },
    {
      "cell_type": "code",
      "metadata": {
        "id": "_J9v1rzg467n",
        "colab_type": "code",
        "colab": {}
      },
      "source": [
        "yHatTest = clf.predict(X_test)\n",
        "np.savetxt(root_dir+'result_svm.txt', yHatTest)"
      ],
      "execution_count": 0,
      "outputs": []
    }
  ]
}