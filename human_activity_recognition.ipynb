{
  "nbformat": 4,
  "nbformat_minor": 0,
  "metadata": {
    "kernelspec": {
      "display_name": "Python 3",
      "language": "python",
      "name": "python3"
    },
    "language_info": {
      "codemirror_mode": {
        "name": "ipython",
        "version": 3
      },
      "file_extension": ".py",
      "mimetype": "text/x-python",
      "name": "python",
      "nbconvert_exporter": "python",
      "pygments_lexer": "ipython3",
      "version": "3.6.2"
    },
    "colab": {
      "name": "human_activity_recognition.ipynb",
      "provenance": [],
      "collapsed_sections": [],
      "include_colab_link": true
    }
  },
  "cells": [
    {
      "cell_type": "markdown",
      "metadata": {
        "id": "view-in-github",
        "colab_type": "text"
      },
      "source": [
        "<a href=\"https://colab.research.google.com/github/koh-ts/human_activity_recognition/blob/master/human_activity_recognition.ipynb\" target=\"_parent\"><img src=\"https://colab.research.google.com/assets/colab-badge.svg\" alt=\"Open In Colab\"/></a>"
      ]
    },
    {
      "cell_type": "code",
      "metadata": {
        "id": "RRTRSiPb467j",
        "colab_type": "code",
        "colab": {}
      },
      "source": [
        "import numpy as np\n",
        "import pandas as pd\n",
        "from sklearn import svm\n",
        "import pandas_profiling as pdp\n",
        "from IPython.display import HTML\n",
        "import lightgbm as lgb\n",
        "from matplotlib import pyplot as plt\n",
        "import pickle\n",
        "%matplotlib inline"
      ],
      "execution_count": 0,
      "outputs": []
    },
    {
      "cell_type": "markdown",
      "metadata": {
        "id": "RSkUG2CA5IrL",
        "colab_type": "text"
      },
      "source": [
        "Mount your Google Drive. In this notebook, we assume that 'report2' folder is placed directly under 'My Drive'."
      ]
    },
    {
      "cell_type": "code",
      "metadata": {
        "id": "56CkXhQu5Pe4",
        "colab_type": "code",
        "outputId": "0f7ed05b-c2fa-4a85-de80-20305b6a7bb0",
        "colab": {
          "base_uri": "https://localhost:8080/",
          "height": 34
        }
      },
      "source": [
        "from google.colab import drive\n",
        "drive.mount('/content/drive')"
      ],
      "execution_count": 2,
      "outputs": [
        {
          "output_type": "stream",
          "text": [
            "Drive already mounted at /content/drive; to attempt to forcibly remount, call drive.mount(\"/content/drive\", force_remount=True).\n"
          ],
          "name": "stdout"
        }
      ]
    },
    {
      "cell_type": "markdown",
      "metadata": {
        "id": "rtU_Jfu15V7i",
        "colab_type": "text"
      },
      "source": [
        "Load the data."
      ]
    },
    {
      "cell_type": "code",
      "metadata": {
        "id": "tW4JeRSjROIk",
        "colab_type": "code",
        "colab": {}
      },
      "source": [
        "root_dir=\"/content/drive/My Drive/report2/\"\n",
        "nsample = 3000\n",
        "\n",
        "xraw_train = pd.read_csv(root_dir+\"X_train.csv\",header=None)\n",
        "yraw_train = pd.read_csv(root_dir+\"y_train.csv\",header=None)\n",
        "xraw_test = pd.read_csv(root_dir+\"X_test.csv\",header=None)"
      ],
      "execution_count": 0,
      "outputs": []
    },
    {
      "cell_type": "code",
      "metadata": {
        "id": "euAvESvPf6eX",
        "colab_type": "code",
        "colab": {}
      },
      "source": [
        "# with open(root_dir + 'corr.txt') as f:\n",
        "#   lines = f.readlines()\n",
        "# lis = []\n",
        "# for l in lines:\n",
        "#   for i, c in enumerate(l):\n",
        "#     if c == 'i':\n",
        "#       num = int(l[:i - 1])\n",
        "#       break\n",
        "#   lis.append(num)"
      ],
      "execution_count": 0,
      "outputs": []
    },
    {
      "cell_type": "code",
      "metadata": {
        "id": "Q1d6g5XKqAQE",
        "colab_type": "code",
        "colab": {}
      },
      "source": [
        "# with open(root_dir + 'corr_done.txt', 'wb') as f:\n",
        "#   pickle.dump(lis, f)"
      ],
      "execution_count": 0,
      "outputs": []
    },
    {
      "cell_type": "code",
      "metadata": {
        "id": "6u7EGHv4rONN",
        "colab_type": "code",
        "colab": {}
      },
      "source": [
        "with open(root_dir + 'corr_done.txt', 'rb') as f:\n",
        "  lis = pickle.load(f)"
      ],
      "execution_count": 0,
      "outputs": []
    },
    {
      "cell_type": "code",
      "metadata": {
        "id": "ucraMTOCiGZP",
        "colab_type": "code",
        "colab": {}
      },
      "source": [
        "xraw_train = xraw_train.drop(lis, axis=1)\n",
        "xraw_test = xraw_test.drop(lis, axis=1)"
      ],
      "execution_count": 0,
      "outputs": []
    },
    {
      "cell_type": "code",
      "metadata": {
        "id": "pZrZH190i_vS",
        "colab_type": "code",
        "colab": {
          "base_uri": "https://localhost:8080/",
          "height": 153
        },
        "outputId": "84bc9591-9047-49c7-ccb2-084be280f7fc"
      },
      "source": [
        "X_train = np.array(xraw_train)\n",
        "y_train = np.array(yraw_train.ix[:,0])\n",
        "X_test = np.array(xraw_test)"
      ],
      "execution_count": 9,
      "outputs": [
        {
          "output_type": "stream",
          "text": [
            "/usr/local/lib/python3.6/dist-packages/ipykernel_launcher.py:2: FutureWarning: \n",
            ".ix is deprecated. Please use\n",
            ".loc for label based indexing or\n",
            ".iloc for positional indexing\n",
            "\n",
            "See the documentation here:\n",
            "http://pandas.pydata.org/pandas-docs/stable/user_guide/indexing.html#ix-indexer-is-deprecated\n",
            "  \n"
          ],
          "name": "stderr"
        }
      ]
    },
    {
      "cell_type": "code",
      "metadata": {
        "id": "O6fSSOQKoqd2",
        "colab_type": "code",
        "colab": {}
      },
      "source": [
        "XTrain = X_train[:nsample,:] #use the first 3000 samples for training\n",
        "yTrain = y_train[:nsample]\n",
        "XVal = X_train[nsample:,:] #use the rests for validation\n",
        "yVal = y_train[nsample:]\n",
        "alldata = pd.concat([xraw_train, xraw_test], ignore_index=True)"
      ],
      "execution_count": 0,
      "outputs": []
    },
    {
      "cell_type": "code",
      "metadata": {
        "id": "oTyhKHrzj9OD",
        "colab_type": "code",
        "colab": {}
      },
      "source": [
        "# profile1 = pdp.ProfileReport(alldata)\n",
        "# profile1.to_file(outputfile=\"myoutputfile1.html\")\n",
        "# HTML(filename=\"myoutputfile1.html\")"
      ],
      "execution_count": 0,
      "outputs": []
    },
    {
      "cell_type": "markdown",
      "metadata": {
        "id": "EdFTg-vvReLy",
        "colab_type": "text"
      },
      "source": [
        "Train a linear SVM classifier"
      ]
    },
    {
      "cell_type": "code",
      "metadata": {
        "id": "Ul8CyWYNRbwT",
        "colab_type": "code",
        "outputId": "052184c1-1422-4b3f-98c6-2efc7a3ad8af",
        "colab": {
          "base_uri": "https://localhost:8080/",
          "height": 136
        }
      },
      "source": [
        "print(\"Training linear SVM classifier.\")\n",
        "clf = svm.LinearSVC()\n",
        "clf.fit(XTrain,yTrain)"
      ],
      "execution_count": 13,
      "outputs": [
        {
          "output_type": "stream",
          "text": [
            "Training linear SVM classifier.\n"
          ],
          "name": "stdout"
        },
        {
          "output_type": "stream",
          "text": [
            "/usr/local/lib/python3.6/dist-packages/sklearn/svm/_base.py:947: ConvergenceWarning: Liblinear failed to converge, increase the number of iterations.\n",
            "  \"the number of iterations.\", ConvergenceWarning)\n"
          ],
          "name": "stderr"
        },
        {
          "output_type": "execute_result",
          "data": {
            "text/plain": [
              "LinearSVC(C=1.0, class_weight=None, dual=True, fit_intercept=True,\n",
              "          intercept_scaling=1, loss='squared_hinge', max_iter=1000,\n",
              "          multi_class='ovr', penalty='l2', random_state=None, tol=0.0001,\n",
              "          verbose=0)"
            ]
          },
          "metadata": {
            "tags": []
          },
          "execution_count": 13
        }
      ]
    },
    {
      "cell_type": "markdown",
      "metadata": {
        "id": "KXHDPbCNRsIr",
        "colab_type": "text"
      },
      "source": [
        "Evaluate training end validation scores."
      ]
    },
    {
      "cell_type": "code",
      "metadata": {
        "id": "IDdidvDRRk43",
        "colab_type": "code",
        "outputId": "0389dfad-008d-4a58-a7ea-24485c71c299",
        "colab": {
          "base_uri": "https://localhost:8080/",
          "height": 51
        }
      },
      "source": [
        "yHatTrain = clf.predict(XTrain)\n",
        "yHatVal = clf.predict(XVal)\n",
        "print(\"Training score \", len((np.where(yHatTrain == yTrain))[0])*1.0/XTrain.shape[0])\n",
        "print(\"Validation score \", len((np.where(yHatVal == yVal))[0])*1.0/XVal.shape[0])"
      ],
      "execution_count": 14,
      "outputs": [
        {
          "output_type": "stream",
          "text": [
            "Training score  0.9953333333333333\n",
            "Validation score  0.9134615384615384\n"
          ],
          "name": "stdout"
        }
      ]
    },
    {
      "cell_type": "code",
      "metadata": {
        "id": "oVmsX7LLwY3I",
        "colab_type": "code",
        "colab": {}
      },
      "source": [
        "train_data_set = lgb.Dataset(XTrain, yTrain)\n",
        "valid_data_set = lgb.Dataset(XVal, yVal, reference=train_data_set)\n",
        "\n",
        "params = {'boosting_type': 'gbdt',\n",
        "          'objective': 'multiclass',\n",
        "          'num_class': 7,\n",
        "          'metric': {'multi_error'},\n",
        "          'num_leaves': 32,\n",
        "          'learning_rate': 0.05,\n",
        "          'feature_fraction': 0.9, #0.9\n",
        "          'bagging_fraction': 0.8, #0.8\n",
        "          'bagging_freq': 7}"
      ],
      "execution_count": 0,
      "outputs": []
    },
    {
      "cell_type": "code",
      "metadata": {
        "id": "Q7mliK4VzmYB",
        "colab_type": "code",
        "colab": {
          "base_uri": "https://localhost:8080/",
          "height": 1000
        },
        "outputId": "09a2c2ae-f19e-44c4-c64e-97651b5afca3"
      },
      "source": [
        "gbm = lgb.train(params, train_data_set, num_boost_round=300, valid_sets=[train_data_set, valid_data_set], early_stopping_rounds=100)"
      ],
      "execution_count": 24,
      "outputs": [
        {
          "output_type": "stream",
          "text": [
            "[1]\ttraining's multi_error: 0.483333\tvalid_1's multi_error: 0.571635\n",
            "Training until validation scores don't improve for 100 rounds.\n",
            "[2]\ttraining's multi_error: 0.139667\tvalid_1's multi_error: 0.320192\n",
            "[3]\ttraining's multi_error: 0.0443333\tvalid_1's multi_error: 0.207212\n",
            "[4]\ttraining's multi_error: 0.0286667\tvalid_1's multi_error: 0.192788\n",
            "[5]\ttraining's multi_error: 0.0253333\tvalid_1's multi_error: 0.184135\n",
            "[6]\ttraining's multi_error: 0.02\tvalid_1's multi_error: 0.176442\n",
            "[7]\ttraining's multi_error: 0.0183333\tvalid_1's multi_error: 0.173077\n",
            "[8]\ttraining's multi_error: 0.015\tvalid_1's multi_error: 0.167788\n",
            "[9]\ttraining's multi_error: 0.0156667\tvalid_1's multi_error: 0.164423\n",
            "[10]\ttraining's multi_error: 0.0146667\tvalid_1's multi_error: 0.160096\n",
            "[11]\ttraining's multi_error: 0.0146667\tvalid_1's multi_error: 0.157212\n",
            "[12]\ttraining's multi_error: 0.0133333\tvalid_1's multi_error: 0.157212\n",
            "[13]\ttraining's multi_error: 0.0133333\tvalid_1's multi_error: 0.160096\n",
            "[14]\ttraining's multi_error: 0.0126667\tvalid_1's multi_error: 0.160096\n",
            "[15]\ttraining's multi_error: 0.0113333\tvalid_1's multi_error: 0.158173\n",
            "[16]\ttraining's multi_error: 0.0103333\tvalid_1's multi_error: 0.154808\n",
            "[17]\ttraining's multi_error: 0.00966667\tvalid_1's multi_error: 0.150962\n",
            "[18]\ttraining's multi_error: 0.00866667\tvalid_1's multi_error: 0.150962\n",
            "[19]\ttraining's multi_error: 0.00866667\tvalid_1's multi_error: 0.151923\n",
            "[20]\ttraining's multi_error: 0.00666667\tvalid_1's multi_error: 0.150962\n",
            "[21]\ttraining's multi_error: 0.00633333\tvalid_1's multi_error: 0.150962\n",
            "[22]\ttraining's multi_error: 0.006\tvalid_1's multi_error: 0.15\n",
            "[23]\ttraining's multi_error: 0.00466667\tvalid_1's multi_error: 0.149038\n",
            "[24]\ttraining's multi_error: 0.00466667\tvalid_1's multi_error: 0.149519\n",
            "[25]\ttraining's multi_error: 0.00433333\tvalid_1's multi_error: 0.15\n",
            "[26]\ttraining's multi_error: 0.00433333\tvalid_1's multi_error: 0.151442\n",
            "[27]\ttraining's multi_error: 0.00433333\tvalid_1's multi_error: 0.151923\n",
            "[28]\ttraining's multi_error: 0.00366667\tvalid_1's multi_error: 0.152404\n",
            "[29]\ttraining's multi_error: 0.003\tvalid_1's multi_error: 0.149519\n",
            "[30]\ttraining's multi_error: 0.00233333\tvalid_1's multi_error: 0.147596\n",
            "[31]\ttraining's multi_error: 0.00233333\tvalid_1's multi_error: 0.149519\n",
            "[32]\ttraining's multi_error: 0.002\tvalid_1's multi_error: 0.148077\n",
            "[33]\ttraining's multi_error: 0.002\tvalid_1's multi_error: 0.149038\n",
            "[34]\ttraining's multi_error: 0.00166667\tvalid_1's multi_error: 0.147596\n",
            "[35]\ttraining's multi_error: 0.00166667\tvalid_1's multi_error: 0.145192\n",
            "[36]\ttraining's multi_error: 0.00133333\tvalid_1's multi_error: 0.144712\n",
            "[37]\ttraining's multi_error: 0.00133333\tvalid_1's multi_error: 0.143269\n",
            "[38]\ttraining's multi_error: 0.00133333\tvalid_1's multi_error: 0.145192\n",
            "[39]\ttraining's multi_error: 0.00133333\tvalid_1's multi_error: 0.145192\n",
            "[40]\ttraining's multi_error: 0.00133333\tvalid_1's multi_error: 0.145192\n",
            "[41]\ttraining's multi_error: 0.00133333\tvalid_1's multi_error: 0.144231\n",
            "[42]\ttraining's multi_error: 0.00133333\tvalid_1's multi_error: 0.142308\n",
            "[43]\ttraining's multi_error: 0.00133333\tvalid_1's multi_error: 0.141827\n",
            "[44]\ttraining's multi_error: 0.00133333\tvalid_1's multi_error: 0.141346\n",
            "[45]\ttraining's multi_error: 0.001\tvalid_1's multi_error: 0.141346\n",
            "[46]\ttraining's multi_error: 0.001\tvalid_1's multi_error: 0.141346\n",
            "[47]\ttraining's multi_error: 0.001\tvalid_1's multi_error: 0.141346\n",
            "[48]\ttraining's multi_error: 0.001\tvalid_1's multi_error: 0.140385\n",
            "[49]\ttraining's multi_error: 0.001\tvalid_1's multi_error: 0.138942\n",
            "[50]\ttraining's multi_error: 0.001\tvalid_1's multi_error: 0.139904\n",
            "[51]\ttraining's multi_error: 0.00133333\tvalid_1's multi_error: 0.138942\n",
            "[52]\ttraining's multi_error: 0.00133333\tvalid_1's multi_error: 0.138942\n",
            "[53]\ttraining's multi_error: 0.001\tvalid_1's multi_error: 0.138462\n",
            "[54]\ttraining's multi_error: 0.001\tvalid_1's multi_error: 0.138462\n",
            "[55]\ttraining's multi_error: 0.001\tvalid_1's multi_error: 0.137981\n",
            "[56]\ttraining's multi_error: 0.001\tvalid_1's multi_error: 0.1375\n",
            "[57]\ttraining's multi_error: 0.000666667\tvalid_1's multi_error: 0.136538\n",
            "[58]\ttraining's multi_error: 0.000666667\tvalid_1's multi_error: 0.137019\n",
            "[59]\ttraining's multi_error: 0.000666667\tvalid_1's multi_error: 0.136058\n",
            "[60]\ttraining's multi_error: 0.000666667\tvalid_1's multi_error: 0.134135\n",
            "[61]\ttraining's multi_error: 0.000333333\tvalid_1's multi_error: 0.134615\n",
            "[62]\ttraining's multi_error: 0.000333333\tvalid_1's multi_error: 0.133654\n",
            "[63]\ttraining's multi_error: 0.000333333\tvalid_1's multi_error: 0.13125\n",
            "[64]\ttraining's multi_error: 0.000333333\tvalid_1's multi_error: 0.133654\n",
            "[65]\ttraining's multi_error: 0.000333333\tvalid_1's multi_error: 0.134135\n",
            "[66]\ttraining's multi_error: 0.000333333\tvalid_1's multi_error: 0.134615\n",
            "[67]\ttraining's multi_error: 0.000333333\tvalid_1's multi_error: 0.134135\n",
            "[68]\ttraining's multi_error: 0.000333333\tvalid_1's multi_error: 0.134135\n",
            "[69]\ttraining's multi_error: 0.000333333\tvalid_1's multi_error: 0.134135\n",
            "[70]\ttraining's multi_error: 0.000333333\tvalid_1's multi_error: 0.133654\n",
            "[71]\ttraining's multi_error: 0.000333333\tvalid_1's multi_error: 0.134135\n",
            "[72]\ttraining's multi_error: 0.000333333\tvalid_1's multi_error: 0.133654\n",
            "[73]\ttraining's multi_error: 0.000333333\tvalid_1's multi_error: 0.133173\n",
            "[74]\ttraining's multi_error: 0.000333333\tvalid_1's multi_error: 0.135096\n",
            "[75]\ttraining's multi_error: 0.000333333\tvalid_1's multi_error: 0.135577\n",
            "[76]\ttraining's multi_error: 0.000333333\tvalid_1's multi_error: 0.132692\n",
            "[77]\ttraining's multi_error: 0.000333333\tvalid_1's multi_error: 0.131731\n",
            "[78]\ttraining's multi_error: 0.000333333\tvalid_1's multi_error: 0.131731\n",
            "[79]\ttraining's multi_error: 0.000333333\tvalid_1's multi_error: 0.130769\n",
            "[80]\ttraining's multi_error: 0.000333333\tvalid_1's multi_error: 0.13125\n",
            "[81]\ttraining's multi_error: 0.000333333\tvalid_1's multi_error: 0.13125\n",
            "[82]\ttraining's multi_error: 0.000333333\tvalid_1's multi_error: 0.131731\n",
            "[83]\ttraining's multi_error: 0.000333333\tvalid_1's multi_error: 0.131731\n",
            "[84]\ttraining's multi_error: 0.000333333\tvalid_1's multi_error: 0.13125\n",
            "[85]\ttraining's multi_error: 0.000333333\tvalid_1's multi_error: 0.131731\n",
            "[86]\ttraining's multi_error: 0.000333333\tvalid_1's multi_error: 0.130769\n",
            "[87]\ttraining's multi_error: 0.000333333\tvalid_1's multi_error: 0.130769\n",
            "[88]\ttraining's multi_error: 0.000333333\tvalid_1's multi_error: 0.130288\n",
            "[89]\ttraining's multi_error: 0.000333333\tvalid_1's multi_error: 0.130288\n",
            "[90]\ttraining's multi_error: 0.000333333\tvalid_1's multi_error: 0.129327\n",
            "[91]\ttraining's multi_error: 0.000333333\tvalid_1's multi_error: 0.130288\n",
            "[92]\ttraining's multi_error: 0.000333333\tvalid_1's multi_error: 0.129327\n",
            "[93]\ttraining's multi_error: 0.000333333\tvalid_1's multi_error: 0.129327\n",
            "[94]\ttraining's multi_error: 0.000333333\tvalid_1's multi_error: 0.128365\n",
            "[95]\ttraining's multi_error: 0.000333333\tvalid_1's multi_error: 0.128365\n",
            "[96]\ttraining's multi_error: 0.000333333\tvalid_1's multi_error: 0.127404\n",
            "[97]\ttraining's multi_error: 0.000333333\tvalid_1's multi_error: 0.128365\n",
            "[98]\ttraining's multi_error: 0.000333333\tvalid_1's multi_error: 0.127885\n",
            "[99]\ttraining's multi_error: 0.000333333\tvalid_1's multi_error: 0.127885\n",
            "[100]\ttraining's multi_error: 0.000333333\tvalid_1's multi_error: 0.127885\n",
            "[101]\ttraining's multi_error: 0\tvalid_1's multi_error: 0.127885\n",
            "[102]\ttraining's multi_error: 0\tvalid_1's multi_error: 0.125962\n",
            "[103]\ttraining's multi_error: 0\tvalid_1's multi_error: 0.125481\n",
            "[104]\ttraining's multi_error: 0\tvalid_1's multi_error: 0.125481\n",
            "[105]\ttraining's multi_error: 0\tvalid_1's multi_error: 0.125\n",
            "[106]\ttraining's multi_error: 0\tvalid_1's multi_error: 0.124038\n",
            "[107]\ttraining's multi_error: 0\tvalid_1's multi_error: 0.124038\n",
            "[108]\ttraining's multi_error: 0\tvalid_1's multi_error: 0.122115\n",
            "[109]\ttraining's multi_error: 0\tvalid_1's multi_error: 0.121635\n",
            "[110]\ttraining's multi_error: 0\tvalid_1's multi_error: 0.121635\n",
            "[111]\ttraining's multi_error: 0\tvalid_1's multi_error: 0.121635\n",
            "[112]\ttraining's multi_error: 0\tvalid_1's multi_error: 0.121154\n",
            "[113]\ttraining's multi_error: 0\tvalid_1's multi_error: 0.121154\n",
            "[114]\ttraining's multi_error: 0\tvalid_1's multi_error: 0.121154\n",
            "[115]\ttraining's multi_error: 0\tvalid_1's multi_error: 0.120673\n",
            "[116]\ttraining's multi_error: 0\tvalid_1's multi_error: 0.121154\n",
            "[117]\ttraining's multi_error: 0.000333333\tvalid_1's multi_error: 0.119712\n",
            "[118]\ttraining's multi_error: 0.000333333\tvalid_1's multi_error: 0.119231\n",
            "[119]\ttraining's multi_error: 0\tvalid_1's multi_error: 0.117308\n",
            "[120]\ttraining's multi_error: 0\tvalid_1's multi_error: 0.117308\n",
            "[121]\ttraining's multi_error: 0\tvalid_1's multi_error: 0.117788\n",
            "[122]\ttraining's multi_error: 0.000333333\tvalid_1's multi_error: 0.11875\n",
            "[123]\ttraining's multi_error: 0.000333333\tvalid_1's multi_error: 0.11875\n",
            "[124]\ttraining's multi_error: 0.000333333\tvalid_1's multi_error: 0.119712\n",
            "[125]\ttraining's multi_error: 0.000333333\tvalid_1's multi_error: 0.120192\n",
            "[126]\ttraining's multi_error: 0.000333333\tvalid_1's multi_error: 0.119231\n",
            "[127]\ttraining's multi_error: 0.000333333\tvalid_1's multi_error: 0.119231\n",
            "[128]\ttraining's multi_error: 0.000333333\tvalid_1's multi_error: 0.119231\n",
            "[129]\ttraining's multi_error: 0.000333333\tvalid_1's multi_error: 0.119231\n",
            "[130]\ttraining's multi_error: 0.000333333\tvalid_1's multi_error: 0.120673\n",
            "[131]\ttraining's multi_error: 0.000333333\tvalid_1's multi_error: 0.120192\n",
            "[132]\ttraining's multi_error: 0.000333333\tvalid_1's multi_error: 0.11875\n",
            "[133]\ttraining's multi_error: 0.000333333\tvalid_1's multi_error: 0.119712\n",
            "[134]\ttraining's multi_error: 0.000333333\tvalid_1's multi_error: 0.117788\n",
            "[135]\ttraining's multi_error: 0.000333333\tvalid_1's multi_error: 0.116827\n",
            "[136]\ttraining's multi_error: 0.000333333\tvalid_1's multi_error: 0.117788\n",
            "[137]\ttraining's multi_error: 0.000333333\tvalid_1's multi_error: 0.117308\n",
            "[138]\ttraining's multi_error: 0.000333333\tvalid_1's multi_error: 0.116827\n",
            "[139]\ttraining's multi_error: 0.000333333\tvalid_1's multi_error: 0.117308\n",
            "[140]\ttraining's multi_error: 0.000333333\tvalid_1's multi_error: 0.116827\n",
            "[141]\ttraining's multi_error: 0.000333333\tvalid_1's multi_error: 0.116346\n",
            "[142]\ttraining's multi_error: 0.000333333\tvalid_1's multi_error: 0.117308\n",
            "[143]\ttraining's multi_error: 0\tvalid_1's multi_error: 0.116827\n",
            "[144]\ttraining's multi_error: 0.000333333\tvalid_1's multi_error: 0.117788\n",
            "[145]\ttraining's multi_error: 0\tvalid_1's multi_error: 0.118269\n",
            "[146]\ttraining's multi_error: 0.000333333\tvalid_1's multi_error: 0.118269\n",
            "[147]\ttraining's multi_error: 0\tvalid_1's multi_error: 0.118269\n",
            "[148]\ttraining's multi_error: 0\tvalid_1's multi_error: 0.116827\n",
            "[149]\ttraining's multi_error: 0.000333333\tvalid_1's multi_error: 0.117308\n",
            "[150]\ttraining's multi_error: 0.000333333\tvalid_1's multi_error: 0.116827\n",
            "[151]\ttraining's multi_error: 0.000333333\tvalid_1's multi_error: 0.116827\n",
            "[152]\ttraining's multi_error: 0.000333333\tvalid_1's multi_error: 0.116827\n",
            "[153]\ttraining's multi_error: 0.000333333\tvalid_1's multi_error: 0.116827\n",
            "[154]\ttraining's multi_error: 0.000333333\tvalid_1's multi_error: 0.115865\n",
            "[155]\ttraining's multi_error: 0.000333333\tvalid_1's multi_error: 0.116346\n",
            "[156]\ttraining's multi_error: 0.000333333\tvalid_1's multi_error: 0.115865\n",
            "[157]\ttraining's multi_error: 0.000333333\tvalid_1's multi_error: 0.115865\n",
            "[158]\ttraining's multi_error: 0.000333333\tvalid_1's multi_error: 0.115865\n",
            "[159]\ttraining's multi_error: 0.000333333\tvalid_1's multi_error: 0.115385\n",
            "[160]\ttraining's multi_error: 0.000333333\tvalid_1's multi_error: 0.114904\n",
            "[161]\ttraining's multi_error: 0\tvalid_1's multi_error: 0.114904\n",
            "[162]\ttraining's multi_error: 0\tvalid_1's multi_error: 0.114904\n",
            "[163]\ttraining's multi_error: 0\tvalid_1's multi_error: 0.114423\n",
            "[164]\ttraining's multi_error: 0\tvalid_1's multi_error: 0.113942\n",
            "[165]\ttraining's multi_error: 0\tvalid_1's multi_error: 0.113942\n",
            "[166]\ttraining's multi_error: 0\tvalid_1's multi_error: 0.113942\n",
            "[167]\ttraining's multi_error: 0\tvalid_1's multi_error: 0.113462\n",
            "[168]\ttraining's multi_error: 0\tvalid_1's multi_error: 0.113942\n",
            "[169]\ttraining's multi_error: 0\tvalid_1's multi_error: 0.114423\n",
            "[170]\ttraining's multi_error: 0\tvalid_1's multi_error: 0.114904\n",
            "[171]\ttraining's multi_error: 0\tvalid_1's multi_error: 0.114904\n",
            "[172]\ttraining's multi_error: 0\tvalid_1's multi_error: 0.114423\n",
            "[173]\ttraining's multi_error: 0\tvalid_1's multi_error: 0.114904\n",
            "[174]\ttraining's multi_error: 0\tvalid_1's multi_error: 0.113942\n",
            "[175]\ttraining's multi_error: 0\tvalid_1's multi_error: 0.113462\n",
            "[176]\ttraining's multi_error: 0\tvalid_1's multi_error: 0.112981\n",
            "[177]\ttraining's multi_error: 0\tvalid_1's multi_error: 0.1125\n",
            "[178]\ttraining's multi_error: 0\tvalid_1's multi_error: 0.112981\n",
            "[179]\ttraining's multi_error: 0\tvalid_1's multi_error: 0.111538\n",
            "[180]\ttraining's multi_error: 0\tvalid_1's multi_error: 0.1125\n",
            "[181]\ttraining's multi_error: 0\tvalid_1's multi_error: 0.112019\n",
            "[182]\ttraining's multi_error: 0.000333333\tvalid_1's multi_error: 0.112019\n",
            "[183]\ttraining's multi_error: 0.000333333\tvalid_1's multi_error: 0.111538\n",
            "[184]\ttraining's multi_error: 0\tvalid_1's multi_error: 0.1125\n",
            "[185]\ttraining's multi_error: 0\tvalid_1's multi_error: 0.112019\n",
            "[186]\ttraining's multi_error: 0.000333333\tvalid_1's multi_error: 0.112981\n",
            "[187]\ttraining's multi_error: 0.000333333\tvalid_1's multi_error: 0.113942\n",
            "[188]\ttraining's multi_error: 0.000333333\tvalid_1's multi_error: 0.112019\n",
            "[189]\ttraining's multi_error: 0.000333333\tvalid_1's multi_error: 0.111058\n",
            "[190]\ttraining's multi_error: 0.000333333\tvalid_1's multi_error: 0.1125\n",
            "[191]\ttraining's multi_error: 0.000333333\tvalid_1's multi_error: 0.112981\n",
            "[192]\ttraining's multi_error: 0.000333333\tvalid_1's multi_error: 0.111538\n",
            "[193]\ttraining's multi_error: 0.000333333\tvalid_1's multi_error: 0.110577\n",
            "[194]\ttraining's multi_error: 0.000333333\tvalid_1's multi_error: 0.111058\n",
            "[195]\ttraining's multi_error: 0\tvalid_1's multi_error: 0.110577\n",
            "[196]\ttraining's multi_error: 0\tvalid_1's multi_error: 0.110096\n",
            "[197]\ttraining's multi_error: 0\tvalid_1's multi_error: 0.111058\n",
            "[198]\ttraining's multi_error: 0\tvalid_1's multi_error: 0.111058\n",
            "[199]\ttraining's multi_error: 0\tvalid_1's multi_error: 0.111058\n",
            "[200]\ttraining's multi_error: 0\tvalid_1's multi_error: 0.110577\n",
            "[201]\ttraining's multi_error: 0\tvalid_1's multi_error: 0.110577\n",
            "Early stopping, best iteration is:\n",
            "[101]\ttraining's multi_error: 0\tvalid_1's multi_error: 0.127885\n"
          ],
          "name": "stdout"
        }
      ]
    },
    {
      "cell_type": "markdown",
      "metadata": {
        "id": "zCwiD3y5R4Je",
        "colab_type": "text"
      },
      "source": [
        "Predict test data and save the result."
      ]
    },
    {
      "cell_type": "code",
      "metadata": {
        "id": "Wzmsp6Pqb10P",
        "colab_type": "code",
        "colab": {
          "base_uri": "https://localhost:8080/",
          "height": 295
        },
        "outputId": "e7e3fea4-0655-48df-e1e6-37977d557587"
      },
      "source": [
        "lgb.plot_importance(gbm)\n",
        "plt.show()"
      ],
      "execution_count": 25,
      "outputs": [
        {
          "output_type": "display_data",
          "data": {
            "image/png": "[encoded data removed]",
            "text/plain": [
              "<Figure size 432x288 with 1 Axes>"
            ]
          },
          "metadata": {
            "tags": []
          }
        }
      ]
    },
    {
      "cell_type": "code",
      "metadata": {
        "id": "qtsSnmSjb0HU",
        "colab_type": "code",
        "colab": {}
      },
      "source": [
        "yHatTest_gbm_raw = gbm.predict(X_test)\n",
        "yHatTest_gbm = np.argmax(yHatTest_gbm_raw, axis=1)\n",
        "np.savetxt(root_dir+'result_gbm2.txt', yHatTest_gbm)"
      ],
      "execution_count": 0,
      "outputs": []
    },
    {
      "cell_type": "code",
      "metadata": {
        "id": "_J9v1rzg467n",
        "colab_type": "code",
        "colab": {}
      },
      "source": [
        "yHatTest = clf.predict(X_test)\n",
        "np.savetxt(root_dir+'result_svm.txt', yHatTest)"
      ],
      "execution_count": 0,
      "outputs": []
    },
    {
      "cell_type": "code",
      "metadata": {
        "id": "562qeDL8sICl",
        "colab_type": "code",
        "colab": {}
      },
      "source": [
        ""
      ],
      "execution_count": 0,
      "outputs": []
    }
  ]
}